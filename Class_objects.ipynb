{
  "nbformat": 4,
  "nbformat_minor": 0,
  "metadata": {
    "colab": {
      "provenance": [],
      "authorship_tag": "ABX9TyPnlYEVFM/nuT2e0mHMQHzQ",
      "include_colab_link": true
    },
    "kernelspec": {
      "name": "python3",
      "display_name": "Python 3"
    },
    "language_info": {
      "name": "python"
    }
  },
  "cells": [
    {
      "cell_type": "markdown",
      "metadata": {
        "id": "view-in-github",
        "colab_type": "text"
      },
      "source": [
        "<a href=\"https://colab.research.google.com/github/king-davi/Class-objects/blob/main/Class_objects.ipynb\" target=\"_parent\"><img src=\"https://colab.research.google.com/assets/colab-badge.svg\" alt=\"Open In Colab\"/></a>"
      ]
    },
    {
      "cell_type": "code",
      "source": [
        "# Write a Python class named Rectangle constructed by a length and width. \n",
        "# Define two methods, area and perimeter, which will compute the area and the perimeter of the rectangle.\n",
        "# Then create a variable named my_rectangle containing a new instance of Rectangle with width=3 and length = 4\n",
        "# and compute both area and perimeter ( the area is expected to be 3*4=12 and perimeter 2*(3+4)=14).\n",
        "class Rectangle:\n",
        "      def __init__(self,length,width):\n",
        "           self.length= length\n",
        "           self.width= width\n",
        "        \n",
        "      def rectangle_area(self):\n",
        "         return self.length * self.width\n",
        "        \n",
        "      def rectangle_perimeter(self):\n",
        "        return 2* (self.length + self.width) \n",
        "      \n",
        "\n",
        "\n",
        "my_rectangle =Rectangle(3,4)\n",
        "print(my_rectangle.rectangle_area())\n",
        "print(my_rectangle.rectangle_perimeter())"
      ],
      "metadata": {
        "colab": {
          "base_uri": "https://localhost:8080/"
        },
        "id": "OkfTWUsruwyN",
        "outputId": "2e46aedd-e64b-4c0a-9142-2ec687e501a9"
      },
      "execution_count": null,
      "outputs": [
        {
          "output_type": "stream",
          "name": "stdout",
          "text": [
            "12\n",
            "14\n"
          ]
        }
      ]
    },
    {
      "cell_type": "code",
      "source": [
        "# Write a Python  class named Circle constructed by its center O and radius r.\n",
        "# Define two methods, area and perimeter, which will compute the area and the perimeter of the circle, \n",
        "# and is Inside() method which allows you to test whether a point A(x, y) belongs to the circle C(O, r) or not.\n",
        "class Circle:\n",
        "   def __init__(self,centre ,radius ):\n",
        "           self.centre = centre \n",
        "           self.radius = radius \n",
        "   def circle_area(self):\n",
        "      return 3.14 * (self.radius ** 2)\n",
        "\n",
        "   def circle_perimeter(self):\n",
        "     return 2 * 3.14 * self.radius\n",
        "\n",
        "circle = Circle(0, 2)\n",
        "print(circle.circle_area())\n",
        "\n",
        "\n",
        "          "
      ],
      "metadata": {
        "colab": {
          "base_uri": "https://localhost:8080/"
        },
        "id": "NWcJTP7dAqOA",
        "outputId": "6d196ff6-bf21-43f8-ded1-c6ae96e9c9bc"
      },
      "execution_count": null,
      "outputs": [
        {
          "output_type": "stream",
          "name": "stdout",
          "text": [
            "12.56\n"
          ]
        }
      ]
    },
    {
      "cell_type": "code",
      "source": [
        "#Suppose we want to model a bank account with support for deposit and withdraw operations. \n",
        "#Let’s create a Python class named Bank defined by its balance. Define two methods, deposit and withdraw, to compute the new amount of each operation\n",
        "class Bank:\n",
        "    def __init__(self):\n",
        "        self.balance=0\n",
        "        print(\"Welcome to Deposit & Withdrawal Machine!\")\n",
        "        \n",
        "    def deposit(self):\n",
        "        amount=float(input(\"deposited: \"))\n",
        "        self.balance += amount\n",
        "        print(\"Amount Deposited: \",amount)\n",
        "    def withdraw(self):\n",
        "        amount = float(input(\"withdraw: \"))\n",
        "        if self.balance>=amount:\n",
        "            self.balance-=amount\n",
        "            print(\"You withdraw: \",amount)\n",
        "        else:\n",
        "            print(\"Insufficient balance \")\n",
        "    def display(self):\n",
        "        print(\"Available Balance=\",self.balance)\n",
        "s = Bank()\n",
        "s.deposit()\n",
        "s.withdraw()\n",
        "s.display()\n",
        "\n"
      ],
      "metadata": {
        "colab": {
          "base_uri": "https://localhost:8080/"
        },
        "id": "cCCBLanG2D9Z",
        "outputId": "396ee3da-df63-4d0a-a33f-14db1a3f6a1f"
      },
      "execution_count": null,
      "outputs": [
        {
          "output_type": "stream",
          "name": "stdout",
          "text": [
            "Welcome to Deposit & Withdrawal Machine!\n",
            "deposited: 12000\n",
            "Amount Deposited:  12000.0\n",
            "withdraw: 10000\n",
            "You withdraw:  10000.0\n",
            "Available Balance= 2000.0\n"
          ]
        }
      ]
    }
  ]
}